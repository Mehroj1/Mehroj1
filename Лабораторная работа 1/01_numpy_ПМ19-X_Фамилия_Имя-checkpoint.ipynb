{
 "cells": [
  {
   "cell_type": "markdown",
   "metadata": {},
   "source": [
    "# Numpy"
   ]
  },
  {
   "cell_type": "markdown",
   "metadata": {},
   "source": [
    "Материалы:\n",
    "* Макрушин С.В. \"Лекция 1: Библиотека Numpy\"\n",
    "* https://numpy.org/doc/stable/user/index.html\n",
    "* https://numpy.org/doc/stable/reference/index.html"
   ]
  },
  {
   "cell_type": "markdown",
   "metadata": {},
   "source": [
    "## Задачи для совместного разбора"
   ]
  },
  {
   "cell_type": "markdown",
   "metadata": {},
   "source": [
    "1. Сгенерировать двухмерный массив `arr` размерности (4, 7), состоящий из случайных действительных чисел, равномерно распределенных в диапазоне от 0 до 20. Нормализовать значения массива с помощью преобразования вида  $𝑎𝑥+𝑏$  так, что после нормализации максимальный элемент масcива будет равен 1.0, минимальный 0.0"
   ]
  },
  {
   "cell_type": "code",
   "execution_count": 2,
   "metadata": {},
   "outputs": [
    {
     "data": {
      "text/plain": [
       "array([ 0,  1,  2,  3,  4,  5,  6,  7,  8,  9, 10, 11, 12, 13, 14, 15, 16,\n",
       "       17, 18, 19])"
      ]
     },
     "execution_count": 2,
     "metadata": {},
     "output_type": "execute_result"
    }
   ],
   "source": [
    "import numpy as np\n",
    "arr = np.arange(0, 20)\n",
    "arr"
   ]
  },
  {
   "cell_type": "markdown",
   "metadata": {},
   "source": [
    "2. Создать матрицу 8 на 10 из случайных целых (используя модуль `numpy.random`) чисел из диапозона от 0 до 10 и найти в ней строку (ее индекс и вывести саму строку), в которой сумма значений минимальна."
   ]
  },
  {
   "cell_type": "code",
   "execution_count": 9,
   "metadata": {},
   "outputs": [
    {
     "name": "stdout",
     "output_type": "stream",
     "text": [
      "Строка с минимальной суммой: [5 4 4 3 2 0 5 6 4 5]\n"
     ]
    }
   ],
   "source": [
    "import numpy as np\n",
    "\n",
    "matrix = np.random.randint(0, 11, (8, 10))\n",
    "row_sums = matrix.sum(axis=1)\n",
    "min_sum_index = np.argmin(row_sums)\n",
    "\n",
    "matrix\n",
    "print(f\"Строка с минимальной суммой: {matrix[min_sum_index]}\")"
   ]
  },
  {
   "cell_type": "markdown",
   "metadata": {},
   "source": [
    "3. Найти евклидово расстояние между двумя одномерными векторами одинаковой размерности."
   ]
  },
  {
   "cell_type": "markdown",
   "metadata": {},
   "source": [
    "4. Решить матричное уравнение `A*X*B=-C` - найти матрицу `X`. Где `A = [[-1, 2, 4], [-3, 1, 2], [-3, 0, 1]]`, `B=[[3, -1], [2, 1]]`, `C=[[7, 21], [11, 8], [8, 4]]`."
   ]
  },
  {
   "cell_type": "markdown",
   "metadata": {},
   "source": [
    "## Лабораторная работа №1"
   ]
  },
  {
   "cell_type": "markdown",
   "metadata": {},
   "source": [
    "Замечание: при решении данных задач не подразумевается использования циклов или генераторов Python, если в задании не сказано обратного. Решение должно опираться на использования функционала библиотеки `numpy`."
   ]
  },
  {
   "cell_type": "markdown",
   "metadata": {},
   "source": [
    "1. Файл `minutes_n_ingredients.csv` содержит информацию об идентификаторе рецепта, времени его выполнения в минутах и количестве необходимых ингредиентов. Считайте данные из этого файла в виде массива `numpy` типа `int32`, используя `np.loadtxt`. Выведите на экран первые 5 строк массива."
   ]
  },
  {
   "cell_type": "code",
   "execution_count": 4,
   "metadata": {},
   "outputs": [
    {
     "name": "stdout",
     "output_type": "stream",
     "text": [
      "[[127244     60     16]\n",
      " [ 23891     25      7]\n",
      " [ 94746     10      6]\n",
      " [ 67660      5      6]\n",
      " [157911     60     14]]\n"
     ]
    }
   ],
   "source": [
    "import numpy as np\n",
    "\n",
    "data = np.loadtxt('minutes_n_ingredients.csv', delimiter=',', skiprows=1, dtype=np.int32)\n",
    "\n",
    "print(data[:5])\n"
   ]
  },
  {
   "cell_type": "markdown",
   "metadata": {},
   "source": [
    "2. Вычислите среднее значение, минимум, максимум и медиану по каждому из столбцов, кроме первого."
   ]
  },
  {
   "cell_type": "code",
   "execution_count": 5,
   "metadata": {},
   "outputs": [
    {
     "name": "stdout",
     "output_type": "stream",
     "text": [
      "Среднее значение по столбцам, кроме первого: [2.16010017e+04 9.05528000e+00]\n",
      "Минимальное значение по столбцам, кроме первого: [0 1]\n",
      "Максимальное значение по столбцам, кроме первого: [2147483647         39]\n",
      "Медиана по столбцам, кроме первого: [40.  9.]\n"
     ]
    }
   ],
   "source": [
    "import numpy as np\n",
    "\n",
    "data = np.loadtxt('minutes_n_ingredients.csv', delimiter=',', skiprows=1, dtype=np.int32)\n",
    "\n",
    "mean = np.mean(data[:, 1:], axis=0)\n",
    "min = np.min(data[:, 1:], axis=0)\n",
    "max = np.max(data[:, 1:], axis=0)\n",
    "median = np.median(data[:, 1:], axis=0)\n",
    "\n",
    "print(\"Среднее значение по столбцам, кроме первого:\", mean)\n",
    "print(\"Минимальное значение по столбцам, кроме первого:\", min)\n",
    "print(\"Максимальное значение по столбцам, кроме первого:\", max)\n",
    "print(\"Медиана по столбцам, кроме первого:\", median)\n"
   ]
  },
  {
   "cell_type": "markdown",
   "metadata": {},
   "source": [
    "3. Ограничьте сверху значения продолжительности выполнения рецепта значением квантиля $q_{0.75}$. "
   ]
  },
  {
   "cell_type": "code",
   "execution_count": 7,
   "metadata": {},
   "outputs": [
    {
     "name": "stdout",
     "output_type": "stream",
     "text": [
      "[[127244     60     16]\n",
      " [ 23891     25      7]\n",
      " [ 94746     10      6]\n",
      " [ 67660      5      6]\n",
      " [157911     60     14]]\n"
     ]
    }
   ],
   "source": [
    "import numpy as np\n",
    "\n",
    "data = np.loadtxt('minutes_n_ingredients.csv', delimiter=',', skiprows=1, dtype=np.int32)\n",
    "\n",
    "q75 = np.percentile(data[:, 1], 75)  # находим 75-й процентиль для столбца времени выполнения\n",
    "data[:, 1][data[:, 1] > q75] = q75  # заменяем все значения сверху квантиля на значение квантиля\n",
    "\n",
    "print(data[:5])  # выводим первые 5 строк массива\n"
   ]
  },
  {
   "cell_type": "markdown",
   "metadata": {},
   "source": [
    "4. Посчитайте, для скольких рецептов указана продолжительность, равная нулю. Замените для таких строк значение в данном столбце на 1."
   ]
  },
  {
   "cell_type": "code",
   "execution_count": 9,
   "metadata": {},
   "outputs": [
    {
     "name": "stdout",
     "output_type": "stream",
     "text": [
      "Количество рецептов с продолжительностью, равной нулю: 479\n",
      "[[127244     60     16]\n",
      " [ 23891     25      7]\n",
      " [ 94746     10      6]\n",
      " [ 67660      5      6]\n",
      " [157911     60     14]]\n"
     ]
    }
   ],
   "source": [
    "import numpy as np\n",
    "\n",
    "data = np.loadtxt('minutes_n_ingredients.csv', delimiter=',', skiprows=1, dtype=np.int32)\n",
    "\n",
    "num_zero_duration = np.sum(data[:, 1] == 0)  # подсчитываем количество рецептов с нулевой продолжительностью\n",
    "print(\"Количество рецептов с продолжительностью, равной нулю:\", num_zero_duration)\n",
    "\n",
    "data[:, 1][data[:, 1] == 0] = 1  # заменяем нулевые значения второго столбца на 1\n",
    "\n",
    "print(data[:5])  # выводим первые 5 строк массива\n"
   ]
  },
  {
   "cell_type": "markdown",
   "metadata": {},
   "source": [
    "5. Посчитайте, сколько уникальных рецептов находится в датасете."
   ]
  },
  {
   "cell_type": "code",
   "execution_count": 10,
   "metadata": {},
   "outputs": [
    {
     "name": "stdout",
     "output_type": "stream",
     "text": [
      "Количество уникальных рецептов в датасете: 100000\n"
     ]
    }
   ],
   "source": [
    "import numpy as np\n",
    "\n",
    "data = np.loadtxt('minutes_n_ingredients.csv', delimiter=',', skiprows=1, dtype=np.int32)\n",
    "\n",
    "unique_recipes = np.unique(data[:, 0])  # выбираем первый столбец (идентификаторы рецептов) и находим уникальные значения\n",
    "num_unique_recipes = len(unique_recipes)  # подсчитываем количество уникальных рецептов\n",
    "\n",
    "print(\"Количество уникальных рецептов в датасете:\", num_unique_recipes)\n"
   ]
  },
  {
   "cell_type": "markdown",
   "metadata": {},
   "source": [
    "6. Сколько и каких различных значений кол-ва ингредиентов присутвует в рецептах из датасета?"
   ]
  },
  {
   "cell_type": "code",
   "execution_count": 11,
   "metadata": {},
   "outputs": [
    {
     "name": "stdout",
     "output_type": "stream",
     "text": [
      "Количество различных значений количества ингредиентов: 37\n",
      "Уникальные значения количества ингредиентов: [ 1  2  3  4  5  6  7  8  9 10 11 12 13 14 15 16 17 18 19 20 21 22 23 24\n",
      " 25 26 27 28 29 30 31 32 33 34 35 37 39]\n"
     ]
    }
   ],
   "source": [
    "import numpy as np\n",
    "\n",
    "data = np.loadtxt('minutes_n_ingredients.csv', delimiter=',', skiprows=1, dtype=np.int32)\n",
    "\n",
    "unique_ingredient_counts = np.unique(data[:, 2])  # выбираем третий столбец (количество ингредиентов) и находим уникальные значения\n",
    "num_unique_ingredient_counts = len(unique_ingredient_counts)  # подсчитываем количество уникальных значений\n",
    "\n",
    "print(\"Количество различных значений количества ингредиентов:\", num_unique_ingredient_counts)\n",
    "print(\"Уникальные значения количества ингредиентов:\", unique_ingredient_counts)\n"
   ]
  },
  {
   "cell_type": "markdown",
   "metadata": {},
   "source": [
    "7. Создайте версию массива, содержащую информацию только о рецептах, состоящих не более чем из 5 ингредиентов."
   ]
  },
  {
   "cell_type": "code",
   "execution_count": 12,
   "metadata": {},
   "outputs": [
    {
     "name": "stdout",
     "output_type": "stream",
     "text": [
      "[[446597     15      5]\n",
      " [204134      5      3]\n",
      " [ 25623      6      4]\n",
      " [484223     18      4]\n",
      " [ 63150    250      4]]\n"
     ]
    }
   ],
   "source": [
    "import numpy as np\n",
    "\n",
    "data = np.loadtxt('minutes_n_ingredients.csv', delimiter=',', skiprows=1, dtype=np.int32)\n",
    "\n",
    "# Создаем маску, показывающую, какие рецепты состоят не более чем из 5 ингредиентов\n",
    "mask = data[:, 2] <= 5\n",
    "\n",
    "# Применяем маску к исходному массиву\n",
    "filtered_data = data[mask]\n",
    "\n",
    "# Выводим первые 5 строк отфильтрованного массива\n",
    "print(filtered_data[:5])"
   ]
  },
  {
   "cell_type": "markdown",
   "metadata": {},
   "source": [
    "8. Для каждого рецепта посчитайте, сколько в среднем ингредиентов приходится на одну минуту рецепта. Найдите максимальное значение этой величины для всего датасета"
   ]
  },
  {
   "cell_type": "code",
   "execution_count": 13,
   "metadata": {},
   "outputs": [
    {
     "name": "stdout",
     "output_type": "stream",
     "text": [
      "Максимальное среднее количество ингредиентов на одну минуту рецепта:  inf\n"
     ]
    },
    {
     "name": "stderr",
     "output_type": "stream",
     "text": [
      "C:\\Users\\mehro\\AppData\\Local\\Temp\\ipykernel_16320\\3088695987.py:6: RuntimeWarning: divide by zero encountered in true_divide\n",
      "  ingredients_per_minute = data[:, 2] / data[:, 1]\n"
     ]
    }
   ],
   "source": [
    "import numpy as np\n",
    "\n",
    "data = np.loadtxt('minutes_n_ingredients.csv', delimiter=',', skiprows=1, dtype=np.int32)\n",
    "\n",
    "# Вычисляем среднее количество ингредиентов на одну минуту рецепта\n",
    "ingredients_per_minute = data[:, 2] / data[:, 1]\n",
    "\n",
    "# Находим максимальное значение этой величины для всего датасета\n",
    "max_ingredients_per_minute = np.max(ingredients_per_minute)\n",
    "\n",
    "print(\"Максимальное среднее количество ингредиентов на одну минуту рецепта: \", max_ingredients_per_minute)\n"
   ]
  },
  {
   "cell_type": "markdown",
   "metadata": {},
   "source": [
    "9. Вычислите среднее количество ингредиентов для топ-100 рецептов с наибольшей продолжительностью"
   ]
  },
  {
   "cell_type": "code",
   "execution_count": 14,
   "metadata": {},
   "outputs": [
    {
     "name": "stdout",
     "output_type": "stream",
     "text": [
      "Среднее количество ингредиентов для топ-100 рецептов с наибольшей продолжительностью:  6.61\n"
     ]
    }
   ],
   "source": [
    "import numpy as np\n",
    "\n",
    "data = np.loadtxt('minutes_n_ingredients.csv', delimiter=',', skiprows=1, dtype=np.int32)\n",
    "\n",
    "# Сортируем данные по убыванию продолжительности рецепта\n",
    "sorted_data = data[data[:, 1].argsort()[::-1]]\n",
    "\n",
    "# Выбираем топ-100 рецептов с наибольшей продолжительностью\n",
    "top100_data = sorted_data[:100]\n",
    "\n",
    "# Вычисляем среднее количество ингредиентов для выбранных рецептов\n",
    "mean_ingredients = np.mean(top100_data[:, 2])\n",
    "\n",
    "print(\"Среднее количество ингредиентов для топ-100 рецептов с наибольшей продолжительностью: \", mean_ingredients)\n"
   ]
  },
  {
   "cell_type": "markdown",
   "metadata": {},
   "source": [
    "10. Выберите случайным образом и выведите информацию о 10 различных рецептах"
   ]
  },
  {
   "cell_type": "code",
   "execution_count": 15,
   "metadata": {},
   "outputs": [
    {
     "name": "stdout",
     "output_type": "stream",
     "text": [
      "Рецепт №107557: продолжительность - 30 мин, ингредиентов - 9\n",
      "Рецепт №466000: продолжительность - 70 мин, ингредиентов - 12\n",
      "Рецепт №524054: продолжительность - 115 мин, ингредиентов - 6\n",
      "Рецепт №144685: продолжительность - 25 мин, ингредиентов - 7\n",
      "Рецепт №188336: продолжительность - 10 мин, ингредиентов - 4\n",
      "Рецепт №426044: продолжительность - 140 мин, ингредиентов - 17\n",
      "Рецепт №464557: продолжительность - 25 мин, ингредиентов - 7\n",
      "Рецепт №233019: продолжительность - 85 мин, ингредиентов - 5\n",
      "Рецепт №133427: продолжительность - 15 мин, ингредиентов - 11\n",
      "Рецепт №147574: продолжительность - 35 мин, ингредиентов - 6\n"
     ]
    }
   ],
   "source": [
    "import numpy as np\n",
    "\n",
    "data = np.loadtxt('minutes_n_ingredients.csv', delimiter=',', skiprows=1, dtype=np.int32)\n",
    "\n",
    "# Выбираем случайные 10 индексов\n",
    "indices = np.random.choice(data.shape[0], 10, replace=False)\n",
    "\n",
    "# Выводим информацию о выбранных рецептах\n",
    "for i in indices:\n",
    "    recipe_id = data[i, 0]\n",
    "    minutes = data[i, 1]\n",
    "    ingredients = data[i, 2]\n",
    "    print(\"Рецепт №{}: продолжительность - {} мин, ингредиентов - {}\".format(recipe_id, minutes, ingredients))\n"
   ]
  },
  {
   "cell_type": "markdown",
   "metadata": {},
   "source": [
    "11. Выведите процент рецептов, кол-во ингредиентов в которых меньше среднего."
   ]
  },
  {
   "cell_type": "code",
   "execution_count": 16,
   "metadata": {},
   "outputs": [
    {
     "name": "stdout",
     "output_type": "stream",
     "text": [
      "Процент рецептов, количество ингредиентов в которых меньше среднего: 58.80%\n"
     ]
    }
   ],
   "source": [
    "import numpy as np\n",
    "\n",
    "data = np.loadtxt('minutes_n_ingredients.csv', delimiter=',', skiprows=1, dtype=np.int32)\n",
    "\n",
    "# Вычисляем среднее количество ингредиентов по всем рецептам\n",
    "mean_ingredients = np.mean(data[:, 2])\n",
    "\n",
    "# Вычисляем количество рецептов, у которых количество ингредиентов меньше среднего\n",
    "num_recipes_less_than_mean = np.sum(data[:, 2] < mean_ingredients)\n",
    "\n",
    "# Вычисляем процент таких рецептов от общего числа рецептов\n",
    "percent_less_than_mean = 100 * num_recipes_less_than_mean / data.shape[0]\n",
    "\n",
    "# Выводим результат\n",
    "print(\"Процент рецептов, количество ингредиентов в которых меньше среднего: {:.2f}%\".format(percent_less_than_mean))\n"
   ]
  },
  {
   "cell_type": "markdown",
   "metadata": {},
   "source": [
    "12. Назовем \"простым\" такой рецепт, длительность выполнения которого не больше 20 минут и кол-во ингредиентов в котором не больше 5. Создайте версию датасета с дополнительным столбцом, значениями которого являются 1, если рецепт простой, и 0 в противном случае."
   ]
  },
  {
   "cell_type": "code",
   "execution_count": 18,
   "metadata": {},
   "outputs": [
    {
     "data": {
      "text/plain": [
       "array([[127244,     60,     16,      0,      0],\n",
       "       [ 23891,     25,      7,      0,      0],\n",
       "       [ 94746,     10,      6,      0,      0],\n",
       "       ...,\n",
       "       [498432,     65,     15,      0,      0],\n",
       "       [370915,      5,      4,      1,      1],\n",
       "       [ 81993,    140,     14,      0,      0]])"
      ]
     },
     "execution_count": 18,
     "metadata": {},
     "output_type": "execute_result"
    }
   ],
   "source": [
    "simple_recipe = ((data[:,1] <= 20) & (data[:,2] <= 5)).astype(int)\n",
    "data = np.column_stack((data, simple_recipe))\n",
    "data"
   ]
  },
  {
   "cell_type": "markdown",
   "metadata": {},
   "source": [
    "13. Выведите процент \"простых\" рецептов в датасете"
   ]
  },
  {
   "cell_type": "code",
   "execution_count": 19,
   "metadata": {},
   "outputs": [
    {
     "name": "stdout",
     "output_type": "stream",
     "text": [
      "Процент 'простых' рецептов в датасете: 9.552 %\n"
     ]
    }
   ],
   "source": [
    "# создаем новый столбец с информацией о простых рецептах\n",
    "simple_recipe = ((data[:,1] <= 20) & (data[:,2] <= 5)).astype(int)\n",
    "data = np.column_stack((data, simple_recipe))\n",
    "\n",
    "# подсчитываем процент простых рецептов\n",
    "num_simple_recipes = np.count_nonzero(simple_recipe)\n",
    "num_total_recipes = data.shape[0]\n",
    "percent_simple_recipes = num_simple_recipes / num_total_recipes * 100\n",
    "\n",
    "print(\"Процент 'простых' рецептов в датасете:\", percent_simple_recipes, \"%\")\n"
   ]
  },
  {
   "cell_type": "markdown",
   "metadata": {},
   "source": [
    "14. Разделим рецепты на группы по следующему правилу. Назовем рецепты короткими, если их продолжительность составляет менее 10 минут; стандартными, если их продолжительность составляет более 10, но менее 20 минут; и длинными, если их продолжительность составляет не менее 20 минут. Создайте трехмерный массив, где нулевая ось отвечает за номер группы (короткий, стандартный или длинный рецепт), первая ось - за сам рецепт и вторая ось - за характеристики рецепта. Выберите максимальное количество рецептов из каждой группы таким образом, чтобы было возможно сформировать трехмерный массив. Выведите форму полученного массива."
   ]
  },
  {
   "cell_type": "code",
   "execution_count": 21,
   "metadata": {},
   "outputs": [
    {
     "name": "stdout",
     "output_type": "stream",
     "text": [
      "(3, 100, 3)\n"
     ]
    }
   ],
   "source": [
    "import numpy as np\n",
    "\n",
    "# загрузка данных\n",
    "data = np.loadtxt('minutes_n_ingredients.csv', delimiter=',', skiprows=1, dtype=np.int32)\n",
    "\n",
    "# создание масок\n",
    "short_mask = data[:, 1] < 10\n",
    "standard_mask = (data[:, 1] >= 10) & (data[:, 1] < 20)\n",
    "long_mask = data[:, 1] >= 20\n",
    "\n",
    "# выбор рецептов из каждой группы\n",
    "short_indices = np.random.choice(np.where(short_mask)[0], size=100, replace=False)\n",
    "standard_indices = np.random.choice(np.where(standard_mask)[0], size=100, replace=False)\n",
    "long_indices = np.random.choice(np.where(long_mask)[0], size=100, replace=False)\n",
    "\n",
    "# создание трехмерного массива\n",
    "recipe_array = np.zeros((3, 100, 3), dtype=np.int32)\n",
    "recipe_array[0] = data[short_indices, :]\n",
    "recipe_array[1] = data[standard_indices, :]\n",
    "recipe_array[2] = data[long_indices, :]\n",
    "\n",
    "# вывод формы массива\n",
    "print(recipe_array.shape)\n"
   ]
  },
  {
   "cell_type": "code",
   "execution_count": null,
   "metadata": {},
   "outputs": [],
   "source": []
  }
 ],
 "metadata": {
  "kernelspec": {
   "display_name": "Python 3 (ipykernel)",
   "language": "python",
   "name": "python3"
  },
  "language_info": {
   "codemirror_mode": {
    "name": "ipython",
    "version": 3
   },
   "file_extension": ".py",
   "mimetype": "text/x-python",
   "name": "python",
   "nbconvert_exporter": "python",
   "pygments_lexer": "ipython3",
   "version": "3.9.12"
  }
 },
 "nbformat": 4,
 "nbformat_minor": 4
}
