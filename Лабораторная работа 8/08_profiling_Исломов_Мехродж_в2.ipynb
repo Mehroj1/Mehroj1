{
 "cells": [
  {
   "cell_type": "markdown",
   "metadata": {},
   "source": [
    "## Оптимизация выполнения кода, векторизация, Numba"
   ]
  },
  {
   "cell_type": "markdown",
   "metadata": {},
   "source": [
    "Материалы:\n",
    "* Макрушин С.В. Лекция 3: Оптимизация выполнения кода, векторизация, Numba\n",
    "* IPython Cookbook, Second Edition (2018), глава 4\n",
    "* https://numba.pydata.org/numba-doc/latest/user/5minguide.html"
   ]
  },
  {
   "cell_type": "markdown",
   "metadata": {},
   "source": [
    "## Задачи для совместного разбора"
   ]
  },
  {
   "cell_type": "markdown",
   "metadata": {},
   "source": [
    "1. Сгенерируйте массив `A` из `N=1млн` случайных целых чисел на отрезке от 0 до 1000. Пусть `B[i] = A[i] + 100`. Посчитайте среднее значение массива `B`."
   ]
  },
  {
   "cell_type": "code",
   "execution_count": null,
   "metadata": {},
   "outputs": [],
   "source": []
  },
  {
   "cell_type": "markdown",
   "metadata": {},
   "source": [
    "2. Создайте таблицу 2млн строк и с 4 столбцами, заполненными случайными числами. Добавьте столбец `key`, которые содержит элементы из множества английских букв. Выберите из таблицы подмножество строк, для которых в столбце `key` указаны первые 5 английских букв."
   ]
  },
  {
   "cell_type": "markdown",
   "metadata": {},
   "source": [
    "## Лабораторная работа 3"
   ]
  },
  {
   "cell_type": "code",
   "execution_count": 1,
   "metadata": {},
   "outputs": [
    {
     "name": "stdout",
     "output_type": "stream",
     "text": [
      "Collecting line_profiler\n",
      "  Downloading line_profiler-4.0.3-cp39-cp39-win_amd64.whl (83 kB)\n",
      "Installing collected packages: line-profiler\n",
      "Successfully installed line-profiler-4.0.3\n"
     ]
    }
   ],
   "source": [
    "!pip install line_profiler"
   ]
  },
  {
   "cell_type": "markdown",
   "metadata": {},
   "source": [
    "1. В файлах `recipes_sample.csv` и `reviews_sample.csv` (__ЛР 2__) находится информация об рецептах блюд и отзывах на эти рецепты соответственно. Загрузите данные из файлов в виде `pd.DataFrame` с названиями `recipes` и `reviews`. Обратите внимание на корректное считывание столбца(ов) с индексами. Приведите столбцы к нужным типам.\n",
    "\n",
    "Реализуйте несколько вариантов функции подсчета среднего значения столбца `rating` из таблицы `reviews` для отзывов, оставленных в 2010 году.\n",
    "\n",
    "A. С использованием метода `DataFrame.iterrows` исходной таблицы;\n",
    "\n",
    "Б. С использованием метода `DataFrame.iterrows` таблицы, в которой сохранены только отзывы за 2010 год;\n",
    "\n",
    "В. С использованием метода `Series.mean`.\n",
    "\n",
    "Проверьте, что результаты работы всех написанных функций корректны и совпадают. Измерьте выполнения всех написанных функций.\n"
   ]
  },
  {
   "cell_type": "code",
   "execution_count": 3,
   "metadata": {},
   "outputs": [
    {
     "name": "stdout",
     "output_type": "stream",
     "text": [
      "<class 'pandas.core.frame.DataFrame'>\n",
      "Int64Index: 30000 entries, 44123 to 298512\n",
      "Data columns (total 7 columns):\n",
      " #   Column          Non-Null Count  Dtype         \n",
      "---  ------          --------------  -----         \n",
      " 0   name            30000 non-null  object        \n",
      " 1   minutes         30000 non-null  int64         \n",
      " 2   contributor_id  30000 non-null  int64         \n",
      " 3   submitted       30000 non-null  datetime64[ns]\n",
      " 4   n_steps         18810 non-null  float64       \n",
      " 5   description     29377 non-null  object        \n",
      " 6   n_ingredients   21120 non-null  float64       \n",
      "dtypes: datetime64[ns](1), float64(2), int64(2), object(2)\n",
      "memory usage: 1.8+ MB\n",
      "<class 'pandas.core.frame.DataFrame'>\n",
      "Int64Index: 126696 entries, 57993 to 415599\n",
      "Data columns (total 5 columns):\n",
      " #   Column      Non-Null Count   Dtype         \n",
      "---  ------      --------------   -----         \n",
      " 0   Unnamed: 0  126696 non-null  int64         \n",
      " 1   user_id     126696 non-null  int64         \n",
      " 2   date        126696 non-null  datetime64[ns]\n",
      " 3   rating      126696 non-null  int64         \n",
      " 4   review      126679 non-null  object        \n",
      "dtypes: datetime64[ns](1), int64(3), object(1)\n",
      "memory usage: 5.8+ MB\n"
     ]
    }
   ],
   "source": [
    "import pandas as pd\n",
    "\n",
    "# Загрузка данных\n",
    "recipes = pd.read_csv('recipes_sample.csv', index_col='id')\n",
    "reviews = pd.read_csv('reviews_sample.csv', index_col='recipe_id')\n",
    "\n",
    "# Приведение типов столбцов\n",
    "recipes['submitted'] = pd.to_datetime(recipes['submitted'])\n",
    "reviews['date'] = pd.to_datetime(reviews['date'])\n",
    "reviews['rating'] = pd.to_numeric(reviews['rating'])\n",
    "\n",
    "recipes.info()\n",
    "reviews.info()"
   ]
  },
  {
   "cell_type": "code",
   "execution_count": 7,
   "metadata": {},
   "outputs": [
    {
     "name": "stdout",
     "output_type": "stream",
     "text": [
      "Mean rating (using iterrows): 4.4544402182900615\n",
      "Execution time (iterrows): 13.12532901763916\n"
     ]
    }
   ],
   "source": [
    "import time\n",
    "\n",
    "def calculate_mean_rating_iterrows(reviews):\n",
    "    sum_rating = 0\n",
    "    count = 0\n",
    "    \n",
    "    start_time = time.time()\n",
    "    \n",
    "    for index, row in reviews.iterrows():\n",
    "        if row['date'].year == 2010:\n",
    "            sum_rating += row['rating']\n",
    "            count += 1\n",
    "    \n",
    "    mean_rating = sum_rating / count if count != 0 else 0\n",
    "    \n",
    "    end_time = time.time()\n",
    "    execution_time = end_time - start_time\n",
    "    \n",
    "    return mean_rating, execution_time\n",
    "\n",
    "mean_rating_iterrows, execution_time_iterrows = calculate_mean_rating_iterrows(reviews)\n",
    "print(\"Mean rating (using iterrows):\", mean_rating_iterrows)\n",
    "print(\"Execution time (iterrows):\", execution_time_iterrows)\n"
   ]
  },
  {
   "cell_type": "code",
   "execution_count": 6,
   "metadata": {},
   "outputs": [
    {
     "name": "stdout",
     "output_type": "stream",
     "text": [
      "Mean rating (using iterrows and filtered): 4.4544402182900615\n",
      "Execution time (iterrows and filtered): 1.2215468883514404\n"
     ]
    }
   ],
   "source": [
    "def calculate_mean_rating_iterrows_filtered(reviews):\n",
    "    sum_rating = 0\n",
    "    count = 0\n",
    "    \n",
    "    start_time = time.time()\n",
    "    \n",
    "    filtered_reviews = reviews[reviews['date'].dt.year == 2010]\n",
    "    for index, row in filtered_reviews.iterrows():\n",
    "        sum_rating += row['rating']\n",
    "        count += 1\n",
    "    \n",
    "    mean_rating = sum_rating / count if count != 0 else 0\n",
    "    \n",
    "    end_time = time.time()\n",
    "    execution_time = end_time - start_time\n",
    "    \n",
    "    return mean_rating, execution_time\n",
    "\n",
    "mean_rating_iterrows_filtered, execution_time_iterrows_filtered = calculate_mean_rating_iterrows_filtered(reviews)\n",
    "print(\"Mean rating (using iterrows and filtered):\", mean_rating_iterrows_filtered)\n",
    "print(\"Execution time (iterrows and filtered):\", execution_time_iterrows_filtered)\n"
   ]
  },
  {
   "cell_type": "code",
   "execution_count": 8,
   "metadata": {},
   "outputs": [
    {
     "name": "stdout",
     "output_type": "stream",
     "text": [
      "Mean rating (using mean): 4.4544402182900615\n",
      "Execution time (mean): 0.013514518737792969\n"
     ]
    }
   ],
   "source": [
    "def calculate_mean_rating_mean(reviews):\n",
    "    start_time = time.time()\n",
    "    \n",
    "    filtered_reviews = reviews[reviews['date'].dt.year == 2010]\n",
    "    mean_rating = filtered_reviews['rating'].mean()\n",
    "    \n",
    "    end_time = time.time()\n",
    "    execution_time = end_time - start_time\n",
    "    \n",
    "    return mean_rating, execution_time\n",
    "\n",
    "mean_rating_mean, execution_time_mean = calculate_mean_rating_mean(reviews)\n",
    "print(\"Mean rating (using mean):\", mean_rating_mean)\n",
    "print(\"Execution time (mean):\", execution_time_mean)\n"
   ]
  },
  {
   "cell_type": "code",
   "execution_count": 10,
   "metadata": {},
   "outputs": [
    {
     "data": {
      "text/plain": [
       "True"
      ]
     },
     "execution_count": 10,
     "metadata": {},
     "output_type": "execute_result"
    }
   ],
   "source": [
    "mean_rating_mean == mean_rating_iterrows_filtered == mean_rating_iterrows"
   ]
  },
  {
   "cell_type": "markdown",
   "metadata": {},
   "source": [
    "2. Какая из созданных функций выполняется медленнее? Что наиболее сильно влияет на скорость выполнения? Для ответа использовать профайлер `line_profiler`. Сохраните результаты работы профайлера в отдельную текстовую ячейку и прокомментируйте результаты его работы.\n",
    "\n",
    "(*). Сможете ли вы ускорить работу функции 1Б, отказавшись от использования метода `iterrows`, но не используя метод `mean`?"
   ]
  },
  {
   "cell_type": "code",
   "execution_count": 11,
   "metadata": {},
   "outputs": [
    {
     "name": "stdout",
     "output_type": "stream",
     "text": [
      "Timer unit: 1e-07 s\n",
      "\n",
      "Total time: 4.43791 s\n",
      "File: C:\\Users\\mehro\\AppData\\Local\\Temp\\ipykernel_1188\\310949438.py\n",
      "Function: calculate_mean_rating_iterrows_filtered at line 1\n",
      "\n",
      "Line #      Hits         Time  Per Hit   % Time  Line Contents\n",
      "==============================================================\n",
      "     1                                           def calculate_mean_rating_iterrows_filtered(reviews):\n",
      "     2         1         16.0     16.0      0.0      sum_rating = 0\n",
      "     3         1          9.0      9.0      0.0      count = 0\n",
      "     4                                               \n",
      "     5         1         39.0     39.0      0.0      start_time = time.time()\n",
      "     6                                               \n",
      "     7         1     303063.0 303063.0      0.7      filtered_reviews = reviews[reviews['date'].dt.year == 2010]\n",
      "     8     12094   36704037.0   3034.9     82.7      for index, row in filtered_reviews.iterrows():\n",
      "     9     12094    7236267.0    598.3     16.3          sum_rating += row['rating']\n",
      "    10     12094     135531.0     11.2      0.3          count += 1\n",
      "    11                                               \n",
      "    12         1         29.0     29.0      0.0      mean_rating = sum_rating / count if count != 0 else 0\n",
      "    13                                               \n",
      "    14         1         56.0     56.0      0.0      end_time = time.time()\n",
      "    15         1         17.0     17.0      0.0      execution_time = end_time - start_time\n",
      "    16                                               \n",
      "    17         1         11.0     11.0      0.0      return mean_rating, execution_time\n",
      "\n",
      "Total time: 0.0315742 s\n",
      "File: C:\\Users\\mehro\\AppData\\Local\\Temp\\ipykernel_1188\\3563999278.py\n",
      "Function: calculate_mean_rating_mean at line 1\n",
      "\n",
      "Line #      Hits         Time  Per Hit   % Time  Line Contents\n",
      "==============================================================\n",
      "     1                                           def calculate_mean_rating_mean(reviews):\n",
      "     2         1         46.0     46.0      0.0      start_time = time.time()\n",
      "     3                                               \n",
      "     4         1     305688.0 305688.0     96.8      filtered_reviews = reviews[reviews['date'].dt.year == 2010]\n",
      "     5         1       9856.0   9856.0      3.1      mean_rating = filtered_reviews['rating'].mean()\n",
      "     6                                               \n",
      "     7         1         38.0     38.0      0.0      end_time = time.time()\n",
      "     8         1         21.0     21.0      0.0      execution_time = end_time - start_time\n",
      "     9                                               \n",
      "    10         1         93.0     93.0      0.0      return mean_rating, execution_time\n",
      "\n"
     ]
    }
   ],
   "source": [
    "import line_profiler\n",
    "\n",
    "# Создаем экземпляр профайлера\n",
    "profiler = line_profiler.LineProfiler()\n",
    "\n",
    "# Добавляем функции в профайлер\n",
    "profiler.add_function(calculate_mean_rating_iterrows_filtered)\n",
    "profiler.add_function(calculate_mean_rating_mean)\n",
    "\n",
    "# Запускаем профилирование функций\n",
    "profiler.enable_by_count()\n",
    "\n",
    "# Вызываем функции, чтобы профайлер записал результаты\n",
    "mean_rating_iterrows_filtered, execution_time_iterrows_filtered = calculate_mean_rating_iterrows_filtered(reviews)\n",
    "mean_rating_mean, execution_time_mean = calculate_mean_rating_mean(reviews)\n",
    "\n",
    "# Отключаем профайлер и выводим результаты\n",
    "profiler.disable_by_count()\n",
    "profiler.print_stats()\n"
   ]
  },
  {
   "cell_type": "code",
   "execution_count": 12,
   "metadata": {},
   "outputs": [
    {
     "name": "stdout",
     "output_type": "stream",
     "text": [
      "Mean rating (using apply): 4.4544402182900615\n",
      "Execution time (apply): 0.07871294021606445\n"
     ]
    }
   ],
   "source": [
    "def calculate_mean_rating_apply(reviews):\n",
    "    start_time = time.time()\n",
    "    \n",
    "    filtered_reviews = reviews[reviews['date'].dt.year == 2010]\n",
    "    mean_rating = filtered_reviews['rating'].apply(lambda x: pd.to_numeric(x)).mean()\n",
    "    \n",
    "    end_time = time.time()\n",
    "    execution_time = end_time - start_time\n",
    "    \n",
    "    return mean_rating, execution_time\n",
    "\n",
    "mean_rating_apply, execution_time_apply = calculate_mean_rating_apply(reviews)\n",
    "print(\"Mean rating (using apply):\", mean_rating_apply)\n",
    "print(\"Execution time (apply):\", execution_time_apply)\n"
   ]
  },
  {
   "cell_type": "markdown",
   "metadata": {},
   "source": [
    "3. Вам предлагается воспользоваться функцией, которая собирает статистику о том, сколько отзывов содержат то или иное слово. Измерьте время выполнения этой функции. Сможете ли вы найти узкие места в коде, используя профайлер? Выпишите (словами), что в имеющемся коде реализовано неоптимально. Оптимизируйте функцию и добейтесь значительного (как минимум, на один порядок) прироста в скорости выполнения."
   ]
  },
  {
   "cell_type": "code",
   "execution_count": 13,
   "metadata": {},
   "outputs": [],
   "source": [
    "def get_word_reviews_count(df):\n",
    "    word_reviews = {}\n",
    "    for _, row in df.dropna(subset=['review']).iterrows():\n",
    "        recipe_id, review = row['recipe_id'], row['review']\n",
    "        words = review.split(' ')\n",
    "        for word in words:\n",
    "            if word not in word_reviews:\n",
    "                word_reviews[word] = []\n",
    "            word_reviews[word].append(recipe_id)\n",
    "    \n",
    "    word_reviews_count = {}\n",
    "    for _, row in df.dropna(subset=['review']).iterrows():\n",
    "        review = row['review']\n",
    "        words = review.split(' ')\n",
    "        for word in words:\n",
    "            word_reviews_count[word] = len(word_reviews[word])\n",
    "    return word_reviews_count"
   ]
  },
  {
   "cell_type": "code",
   "execution_count": 15,
   "metadata": {},
   "outputs": [],
   "source": [
    "def get_word_reviews_count_optimized(df):\n",
    "    word_reviews = {}\n",
    "    word_reviews_count = {}\n",
    "\n",
    "    def process_review(review):\n",
    "        words = review.split(' ')\n",
    "        for word in words:\n",
    "            if word not in word_reviews:\n",
    "                word_reviews[word] = []\n",
    "            word_reviews[word].append(recipe_id)\n",
    "\n",
    "    df.dropna(subset=['review'], inplace=True)\n",
    "    df['review'].apply(process_review)\n",
    "\n",
    "    for word, reviews in word_reviews.items():\n",
    "        word_reviews_count[word] = len(reviews)\n",
    "\n",
    "    return word_reviews_count\n"
   ]
  },
  {
   "cell_type": "markdown",
   "metadata": {},
   "source": [
    "4. Напишите несколько версий функции `MAPE` (см. [MAPE](https://en.wikipedia.org/wiki/Mean_absolute_percentage_error)) для расчета среднего абсолютного процентного отклонения значения рейтинга отзыва на рецепт от среднего значения рейтинга по всем отзывам для этого рецепта. \n",
    "    1. Без использования векторизованных операций и методов массивов `numpy` и без использования `numba`\n",
    "    2. Без использования векторизованных операций и методов массивов `numpy`, но с использованием `numba`\n",
    "    3. С использованием векторизованных операций и методов массивов `numpy`, но без использования `numba`\n",
    "    4. C использованием векторизованных операций и методов массивов `numpy` и `numba`\n",
    "    \n",
    "Измерьте время выполнения каждой из реализаций.\n",
    "\n",
    "Замечание: удалите из выборки отзывы с нулевым рейтингом.\n"
   ]
  },
  {
   "cell_type": "code",
   "execution_count": 16,
   "metadata": {},
   "outputs": [
    {
     "name": "stderr",
     "output_type": "stream",
     "text": [
      "C:\\Users\\mehro\\AppData\\Local\\Temp\\ipykernel_9004\\2178603785.py:20: NumbaWarning: \u001b[1m\n",
      "Compilation is falling back to object mode WITH looplifting enabled because Function \"mape_numba\" failed type inference due to: \u001b[1m\u001b[1mnon-precise type pyobject\u001b[0m\n",
      "\u001b[0m\u001b[1mDuring: typing of argument at C:\\Users\\mehro\\AppData\\Local\\Temp\\ipykernel_9004\\2178603785.py (22)\u001b[0m\n",
      "\u001b[1m\n",
      "File \"..\\..\\..\\AppData\\Local\\Temp\\ipykernel_9004\\2178603785.py\", line 22:\u001b[0m\n",
      "\u001b[1m<source missing, REPL/exec in use?>\u001b[0m\n",
      "\u001b[0m\n",
      "  @numba.jit\n",
      "C:\\Users\\mehro\\anaconda3\\lib\\site-packages\\numba\\core\\object_mode_passes.py:151: NumbaWarning: \u001b[1mFunction \"mape_numba\" was compiled in object mode without forceobj=True.\n",
      "\u001b[1m\n",
      "File \"..\\..\\..\\AppData\\Local\\Temp\\ipykernel_9004\\2178603785.py\", line 20:\u001b[0m\n",
      "\u001b[1m<source missing, REPL/exec in use?>\u001b[0m\n",
      "\u001b[0m\n",
      "  warnings.warn(errors.NumbaWarning(warn_msg,\n",
      "C:\\Users\\mehro\\anaconda3\\lib\\site-packages\\numba\\core\\object_mode_passes.py:161: NumbaDeprecationWarning: \u001b[1m\n",
      "Fall-back from the nopython compilation path to the object mode compilation path has been detected, this is deprecated behaviour.\n",
      "\n",
      "For more information visit https://numba.readthedocs.io/en/stable/reference/deprecation.html#deprecation-of-object-mode-fall-back-behaviour-when-using-jit\n",
      "\u001b[1m\n",
      "File \"..\\..\\..\\AppData\\Local\\Temp\\ipykernel_9004\\2178603785.py\", line 20:\u001b[0m\n",
      "\u001b[1m<source missing, REPL/exec in use?>\u001b[0m\n",
      "\u001b[0m\n",
      "  warnings.warn(errors.NumbaDeprecationWarning(msg,\n"
     ]
    },
    {
     "ename": "KeyError",
     "evalue": "'recipe_id'",
     "output_type": "error",
     "traceback": [
      "\u001b[1;31m---------------------------------------------------------------------------\u001b[0m",
      "\u001b[1;31mKeyError\u001b[0m                                  Traceback (most recent call last)",
      "File \u001b[1;32m~\\anaconda3\\lib\\site-packages\\pandas\\core\\indexes\\base.py:3621\u001b[0m, in \u001b[0;36mIndex.get_loc\u001b[1;34m(self, key, method, tolerance)\u001b[0m\n\u001b[0;32m   3620\u001b[0m \u001b[38;5;28;01mtry\u001b[39;00m:\n\u001b[1;32m-> 3621\u001b[0m     \u001b[38;5;28;01mreturn\u001b[39;00m \u001b[38;5;28;43mself\u001b[39;49m\u001b[38;5;241;43m.\u001b[39;49m\u001b[43m_engine\u001b[49m\u001b[38;5;241;43m.\u001b[39;49m\u001b[43mget_loc\u001b[49m\u001b[43m(\u001b[49m\u001b[43mcasted_key\u001b[49m\u001b[43m)\u001b[49m\n\u001b[0;32m   3622\u001b[0m \u001b[38;5;28;01mexcept\u001b[39;00m \u001b[38;5;167;01mKeyError\u001b[39;00m \u001b[38;5;28;01mas\u001b[39;00m err:\n",
      "File \u001b[1;32m~\\anaconda3\\lib\\site-packages\\pandas\\_libs\\index.pyx:136\u001b[0m, in \u001b[0;36mpandas._libs.index.IndexEngine.get_loc\u001b[1;34m()\u001b[0m\n",
      "File \u001b[1;32m~\\anaconda3\\lib\\site-packages\\pandas\\_libs\\index.pyx:163\u001b[0m, in \u001b[0;36mpandas._libs.index.IndexEngine.get_loc\u001b[1;34m()\u001b[0m\n",
      "File \u001b[1;32mpandas\\_libs\\hashtable_class_helper.pxi:5198\u001b[0m, in \u001b[0;36mpandas._libs.hashtable.PyObjectHashTable.get_item\u001b[1;34m()\u001b[0m\n",
      "File \u001b[1;32mpandas\\_libs\\hashtable_class_helper.pxi:5206\u001b[0m, in \u001b[0;36mpandas._libs.hashtable.PyObjectHashTable.get_item\u001b[1;34m()\u001b[0m\n",
      "\u001b[1;31mKeyError\u001b[0m: 'recipe_id'",
      "\nThe above exception was the direct cause of the following exception:\n",
      "\u001b[1;31mKeyError\u001b[0m                                  Traceback (most recent call last)",
      "Input \u001b[1;32mIn [16]\u001b[0m, in \u001b[0;36m<cell line: 62>\u001b[1;34m()\u001b[0m\n\u001b[0;32m     59\u001b[0m time_numba \u001b[38;5;241m=\u001b[39m timeit\u001b[38;5;241m.\u001b[39mtimeit(\u001b[38;5;28;01mlambda\u001b[39;00m: mape_numba(reviews), number\u001b[38;5;241m=\u001b[39m\u001b[38;5;241m1\u001b[39m)\n\u001b[0;32m     61\u001b[0m \u001b[38;5;66;03m# Измерение времени выполнения функции mape_numpy\u001b[39;00m\n\u001b[1;32m---> 62\u001b[0m time_numpy \u001b[38;5;241m=\u001b[39m \u001b[43mtimeit\u001b[49m\u001b[38;5;241;43m.\u001b[39;49m\u001b[43mtimeit\u001b[49m\u001b[43m(\u001b[49m\u001b[38;5;28;43;01mlambda\u001b[39;49;00m\u001b[43m:\u001b[49m\u001b[43m \u001b[49m\u001b[43mmape_numpy\u001b[49m\u001b[43m(\u001b[49m\u001b[43mreviews\u001b[49m\u001b[43m)\u001b[49m\u001b[43m,\u001b[49m\u001b[43m \u001b[49m\u001b[43mnumber\u001b[49m\u001b[38;5;241;43m=\u001b[39;49m\u001b[38;5;241;43m1\u001b[39;49m\u001b[43m)\u001b[49m\n\u001b[0;32m     64\u001b[0m \u001b[38;5;66;03m# Измерение времени выполнения функции mape_numpy_numba\u001b[39;00m\n\u001b[0;32m     65\u001b[0m time_numpy_numba \u001b[38;5;241m=\u001b[39m timeit\u001b[38;5;241m.\u001b[39mtimeit(\u001b[38;5;28;01mlambda\u001b[39;00m: mape_numpy_numba(reviews), number\u001b[38;5;241m=\u001b[39m\u001b[38;5;241m1\u001b[39m)\n",
      "File \u001b[1;32m~\\anaconda3\\lib\\timeit.py:233\u001b[0m, in \u001b[0;36mtimeit\u001b[1;34m(stmt, setup, timer, number, globals)\u001b[0m\n\u001b[0;32m    230\u001b[0m \u001b[38;5;28;01mdef\u001b[39;00m \u001b[38;5;21mtimeit\u001b[39m(stmt\u001b[38;5;241m=\u001b[39m\u001b[38;5;124m\"\u001b[39m\u001b[38;5;124mpass\u001b[39m\u001b[38;5;124m\"\u001b[39m, setup\u001b[38;5;241m=\u001b[39m\u001b[38;5;124m\"\u001b[39m\u001b[38;5;124mpass\u001b[39m\u001b[38;5;124m\"\u001b[39m, timer\u001b[38;5;241m=\u001b[39mdefault_timer,\n\u001b[0;32m    231\u001b[0m            number\u001b[38;5;241m=\u001b[39mdefault_number, \u001b[38;5;28mglobals\u001b[39m\u001b[38;5;241m=\u001b[39m\u001b[38;5;28;01mNone\u001b[39;00m):\n\u001b[0;32m    232\u001b[0m     \u001b[38;5;124;03m\"\"\"Convenience function to create Timer object and call timeit method.\"\"\"\u001b[39;00m\n\u001b[1;32m--> 233\u001b[0m     \u001b[38;5;28;01mreturn\u001b[39;00m \u001b[43mTimer\u001b[49m\u001b[43m(\u001b[49m\u001b[43mstmt\u001b[49m\u001b[43m,\u001b[49m\u001b[43m \u001b[49m\u001b[43msetup\u001b[49m\u001b[43m,\u001b[49m\u001b[43m \u001b[49m\u001b[43mtimer\u001b[49m\u001b[43m,\u001b[49m\u001b[43m \u001b[49m\u001b[38;5;28;43mglobals\u001b[39;49m\u001b[43m)\u001b[49m\u001b[38;5;241;43m.\u001b[39;49m\u001b[43mtimeit\u001b[49m\u001b[43m(\u001b[49m\u001b[43mnumber\u001b[49m\u001b[43m)\u001b[49m\n",
      "File \u001b[1;32m~\\anaconda3\\lib\\timeit.py:177\u001b[0m, in \u001b[0;36mTimer.timeit\u001b[1;34m(self, number)\u001b[0m\n\u001b[0;32m    175\u001b[0m gc\u001b[38;5;241m.\u001b[39mdisable()\n\u001b[0;32m    176\u001b[0m \u001b[38;5;28;01mtry\u001b[39;00m:\n\u001b[1;32m--> 177\u001b[0m     timing \u001b[38;5;241m=\u001b[39m \u001b[38;5;28;43mself\u001b[39;49m\u001b[38;5;241;43m.\u001b[39;49m\u001b[43minner\u001b[49m\u001b[43m(\u001b[49m\u001b[43mit\u001b[49m\u001b[43m,\u001b[49m\u001b[43m \u001b[49m\u001b[38;5;28;43mself\u001b[39;49m\u001b[38;5;241;43m.\u001b[39;49m\u001b[43mtimer\u001b[49m\u001b[43m)\u001b[49m\n\u001b[0;32m    178\u001b[0m \u001b[38;5;28;01mfinally\u001b[39;00m:\n\u001b[0;32m    179\u001b[0m     \u001b[38;5;28;01mif\u001b[39;00m gcold:\n",
      "File \u001b[1;32m<timeit-src>:6\u001b[0m, in \u001b[0;36minner\u001b[1;34m(_it, _timer, _stmt)\u001b[0m\n",
      "Input \u001b[1;32mIn [16]\u001b[0m, in \u001b[0;36m<lambda>\u001b[1;34m()\u001b[0m\n\u001b[0;32m     59\u001b[0m time_numba \u001b[38;5;241m=\u001b[39m timeit\u001b[38;5;241m.\u001b[39mtimeit(\u001b[38;5;28;01mlambda\u001b[39;00m: mape_numba(reviews), number\u001b[38;5;241m=\u001b[39m\u001b[38;5;241m1\u001b[39m)\n\u001b[0;32m     61\u001b[0m \u001b[38;5;66;03m# Измерение времени выполнения функции mape_numpy\u001b[39;00m\n\u001b[1;32m---> 62\u001b[0m time_numpy \u001b[38;5;241m=\u001b[39m timeit\u001b[38;5;241m.\u001b[39mtimeit(\u001b[38;5;28;01mlambda\u001b[39;00m: \u001b[43mmape_numpy\u001b[49m\u001b[43m(\u001b[49m\u001b[43mreviews\u001b[49m\u001b[43m)\u001b[49m, number\u001b[38;5;241m=\u001b[39m\u001b[38;5;241m1\u001b[39m)\n\u001b[0;32m     64\u001b[0m \u001b[38;5;66;03m# Измерение времени выполнения функции mape_numpy_numba\u001b[39;00m\n\u001b[0;32m     65\u001b[0m time_numpy_numba \u001b[38;5;241m=\u001b[39m timeit\u001b[38;5;241m.\u001b[39mtimeit(\u001b[38;5;28;01mlambda\u001b[39;00m: mape_numpy_numba(reviews), number\u001b[38;5;241m=\u001b[39m\u001b[38;5;241m1\u001b[39m)\n",
      "Input \u001b[1;32mIn [16]\u001b[0m, in \u001b[0;36mmape_numpy\u001b[1;34m(reviews)\u001b[0m\n\u001b[0;32m     35\u001b[0m \u001b[38;5;28;01mdef\u001b[39;00m \u001b[38;5;21mmape_numpy\u001b[39m(reviews):\n\u001b[0;32m     36\u001b[0m     ratings \u001b[38;5;241m=\u001b[39m reviews[\u001b[38;5;124m'\u001b[39m\u001b[38;5;124mrating\u001b[39m\u001b[38;5;124m'\u001b[39m]\n\u001b[1;32m---> 37\u001b[0m     recipe_ids \u001b[38;5;241m=\u001b[39m \u001b[43mreviews\u001b[49m\u001b[43m[\u001b[49m\u001b[38;5;124;43m'\u001b[39;49m\u001b[38;5;124;43mrecipe_id\u001b[39;49m\u001b[38;5;124;43m'\u001b[39;49m\u001b[43m]\u001b[49m\n\u001b[0;32m     38\u001b[0m     unique_ids \u001b[38;5;241m=\u001b[39m np\u001b[38;5;241m.\u001b[39munique(recipe_ids)\n\u001b[0;32m     39\u001b[0m     average_ratings \u001b[38;5;241m=\u001b[39m reviews\u001b[38;5;241m.\u001b[39mgroupby(\u001b[38;5;124m'\u001b[39m\u001b[38;5;124mrecipe_id\u001b[39m\u001b[38;5;124m'\u001b[39m)[\u001b[38;5;124m'\u001b[39m\u001b[38;5;124mrating\u001b[39m\u001b[38;5;124m'\u001b[39m]\u001b[38;5;241m.\u001b[39mtransform(\u001b[38;5;124m'\u001b[39m\u001b[38;5;124mmean\u001b[39m\u001b[38;5;124m'\u001b[39m)\n",
      "File \u001b[1;32m~\\anaconda3\\lib\\site-packages\\pandas\\core\\frame.py:3505\u001b[0m, in \u001b[0;36mDataFrame.__getitem__\u001b[1;34m(self, key)\u001b[0m\n\u001b[0;32m   3503\u001b[0m \u001b[38;5;28;01mif\u001b[39;00m \u001b[38;5;28mself\u001b[39m\u001b[38;5;241m.\u001b[39mcolumns\u001b[38;5;241m.\u001b[39mnlevels \u001b[38;5;241m>\u001b[39m \u001b[38;5;241m1\u001b[39m:\n\u001b[0;32m   3504\u001b[0m     \u001b[38;5;28;01mreturn\u001b[39;00m \u001b[38;5;28mself\u001b[39m\u001b[38;5;241m.\u001b[39m_getitem_multilevel(key)\n\u001b[1;32m-> 3505\u001b[0m indexer \u001b[38;5;241m=\u001b[39m \u001b[38;5;28;43mself\u001b[39;49m\u001b[38;5;241;43m.\u001b[39;49m\u001b[43mcolumns\u001b[49m\u001b[38;5;241;43m.\u001b[39;49m\u001b[43mget_loc\u001b[49m\u001b[43m(\u001b[49m\u001b[43mkey\u001b[49m\u001b[43m)\u001b[49m\n\u001b[0;32m   3506\u001b[0m \u001b[38;5;28;01mif\u001b[39;00m is_integer(indexer):\n\u001b[0;32m   3507\u001b[0m     indexer \u001b[38;5;241m=\u001b[39m [indexer]\n",
      "File \u001b[1;32m~\\anaconda3\\lib\\site-packages\\pandas\\core\\indexes\\base.py:3623\u001b[0m, in \u001b[0;36mIndex.get_loc\u001b[1;34m(self, key, method, tolerance)\u001b[0m\n\u001b[0;32m   3621\u001b[0m     \u001b[38;5;28;01mreturn\u001b[39;00m \u001b[38;5;28mself\u001b[39m\u001b[38;5;241m.\u001b[39m_engine\u001b[38;5;241m.\u001b[39mget_loc(casted_key)\n\u001b[0;32m   3622\u001b[0m \u001b[38;5;28;01mexcept\u001b[39;00m \u001b[38;5;167;01mKeyError\u001b[39;00m \u001b[38;5;28;01mas\u001b[39;00m err:\n\u001b[1;32m-> 3623\u001b[0m     \u001b[38;5;28;01mraise\u001b[39;00m \u001b[38;5;167;01mKeyError\u001b[39;00m(key) \u001b[38;5;28;01mfrom\u001b[39;00m \u001b[38;5;21;01merr\u001b[39;00m\n\u001b[0;32m   3624\u001b[0m \u001b[38;5;28;01mexcept\u001b[39;00m \u001b[38;5;167;01mTypeError\u001b[39;00m:\n\u001b[0;32m   3625\u001b[0m     \u001b[38;5;66;03m# If we have a listlike key, _check_indexing_error will raise\u001b[39;00m\n\u001b[0;32m   3626\u001b[0m     \u001b[38;5;66;03m#  InvalidIndexError. Otherwise we fall through and re-raise\u001b[39;00m\n\u001b[0;32m   3627\u001b[0m     \u001b[38;5;66;03m#  the TypeError.\u001b[39;00m\n\u001b[0;32m   3628\u001b[0m     \u001b[38;5;28mself\u001b[39m\u001b[38;5;241m.\u001b[39m_check_indexing_error(key)\n",
      "\u001b[1;31mKeyError\u001b[0m: 'recipe_id'"
     ]
    }
   ],
   "source": [
    "import numpy as np\n",
    "import numba\n",
    "import timeit\n",
    "\n",
    "# Версия без использования векторизованных операций и методов массивов numpy\n",
    "def mape_vanilla(reviews):\n",
    "    total_mape = 0.0\n",
    "    count = 0\n",
    "    for _, row in reviews.iterrows():\n",
    "        rating = row['rating']\n",
    "        recipe_id = row.get('recipe_id')\n",
    "        if recipe_id is not None:\n",
    "            average_rating = reviews[reviews['recipe_id'] == recipe_id]['rating'].mean()\n",
    "            if not np.isnan(rating) and not np.isnan(average_rating):\n",
    "                total_mape += abs((rating - average_rating) / average_rating)\n",
    "                count += 1\n",
    "    return total_mape / count if count > 0 else 0.0\n",
    "\n",
    "# Версия с использованием numba, но без векторизации numpy\n",
    "@numba.jit\n",
    "def mape_numba(reviews):\n",
    "    total_mape = 0.0\n",
    "    count = 0\n",
    "    for _, row in reviews.iterrows():\n",
    "        rating = row['rating']\n",
    "        recipe_id = row.get('recipe_id')\n",
    "        if recipe_id is not None:\n",
    "            average_rating = reviews[reviews['recipe_id'] == recipe_id]['rating'].mean()\n",
    "            if not np.isnan(rating) and not np.isnan(average_rating):\n",
    "                total_mape += abs((rating - average_rating) / average_rating)\n",
    "                count += 1\n",
    "    return total_mape / count if count > 0 else 0.0\n",
    "\n",
    "# Версия с использованием векторизованных операций и методов массивов numpy\n",
    "def mape_numpy(reviews):\n",
    "    ratings = reviews['rating']\n",
    "    recipe_ids = reviews['recipe_id']\n",
    "    unique_ids = np.unique(recipe_ids)\n",
    "    average_ratings = reviews.groupby('recipe_id')['rating'].transform('mean')\n",
    "    mask = ~np.isnan(ratings) & ~np.isnan(average_ratings)\n",
    "    total_mape = np.mean(np.abs((ratings - average_ratings) / average_ratings)[mask])\n",
    "    return total_mape\n",
    "\n",
    "# Версия с использованием векторизованных операций и методов массивов numpy и numba\n",
    "@numba.jit\n",
    "def mape_numpy_numba(reviews):\n",
    "    ratings = reviews['rating']\n",
    "    recipe_ids = reviews['recipe_id']\n",
    "    unique_ids = np.unique(recipe_ids)\n",
    "    average_ratings = reviews.groupby('recipe_id')['rating'].transform('mean')\n",
    "    mask = ~np.isnan(ratings) & ~np.isnan(average_ratings)\n",
    "    total_mape = np.mean(np.abs((ratings - average_ratings) / average_ratings)[mask])\n",
    "    return total_mape\n",
    "\n",
    "# Измерение времени выполнения функции mape_vanilla\n",
    "time_vanilla = timeit.timeit(lambda: mape_vanilla(reviews), number=1)\n",
    "\n",
    "# Измерение времени выполнения функции mape_numba\n",
    "time_numba = timeit.timeit(lambda: mape_numba(reviews), number=1)\n",
    "\n",
    "# Измерение времени выполнения функции mape_numpy\n",
    "time_numpy = timeit.timeit(lambda: mape_numpy(reviews), number=1)\n",
    "\n",
    "# Измерение времени выполнения функции mape_numpy_numba\n",
    "time_numpy_numba = timeit.timeit(lambda: mape_numpy_numba(reviews), number=1)\n",
    "\n",
    "# Вывод результатов\n",
    "print(\"Время выполнения функции mape_vanilla:\", time_vanilla)\n",
    "print(\"Время выполнения функции mape_numba:\", time_numba)\n",
    "print(\"Время выполнения функции mape_numpy:\", time_numpy)\n",
    "print(\"Время выполнения функции mape_numpy_numba:\", time_numpy_numba)\n",
    "\n"
   ]
  },
  {
   "cell_type": "markdown",
   "metadata": {},
   "source": [
    "#### [версия 2]\n",
    "* Уточнены формулировки задач 1, 3, 4"
   ]
  },
  {
   "cell_type": "code",
   "execution_count": null,
   "metadata": {},
   "outputs": [],
   "source": []
  }
 ],
 "metadata": {
  "kernelspec": {
   "display_name": "Python 3 (ipykernel)",
   "language": "python",
   "name": "python3"
  },
  "language_info": {
   "codemirror_mode": {
    "name": "ipython",
    "version": 3
   },
   "file_extension": ".py",
   "mimetype": "text/x-python",
   "name": "python",
   "nbconvert_exporter": "python",
   "pygments_lexer": "ipython3",
   "version": "3.9.12"
  }
 },
 "nbformat": 4,
 "nbformat_minor": 4
}
